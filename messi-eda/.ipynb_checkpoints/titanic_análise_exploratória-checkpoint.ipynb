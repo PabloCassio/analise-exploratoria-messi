{
 "cells": [
  {
   "attachments": {},
   "cell_type": "markdown",
   "metadata": {},
   "source": [
    "# Análise de Dados Exploratória de Lionel Messi\n",
    "\n",
    "![messi](img/messi.png \"Lionel Messi comemorando título da Copa do Mundo com seus companheiros. Image By: fifa.com\")"
   ]
  },
  {
   "attachments": {},
   "cell_type": "markdown",
   "metadata": {},
   "source": [
    "# 1. Introdução\n",
    "\n",
    "Lionel Andrés Messi Cuccittini é um renomado jogador de futebol argentino, conhecido por suas habilidades excepcionais e conquistas no esporte. Desde sua estreia até o dia 03/04/2023, Messi se destacou marcando um número impressionante de gols ao longo de sua carreira.\n",
    "\n",
    "Neste estudo, iremos explorar um conjunto de dados detalhando os gols marcados por Lionel Messi em partidas oficiais. Os dados abrangem desde o início de sua carreira até a data mencionada, proporcionando uma visão abrangente dos feitos do jogador ao longo do tempo. Essas informações são valiosas para entender a magnitude de suas conquistas e seu impacto no mundo do futebol.\n",
    "\n",
    "O conjunto de dados foi compilado e atualizado por Azmine Toushik Wasi na plataforma [Kaggle](https://www.kaggle.com/datasets/azminetoushikwasi/-lionel-messi-all-club-goals), incluindo registros de jogos, relatórios esportivos e estatísticas oficiais. Ele apresenta detalhes sobre as partidas em que Messi marcou gols, incluindo a temporada, competição, jornada, data, local, clube pelo qual Messi marcou o gol, adversário, resultado da partida, posição que Messi jogou no campo, minuto, qual o placar a partir do gol de Lionel Messi, tipo de gol marcado e o jogador que deu a assistência para oa gol.\n",
    "\n",
    "Ao analisar esses dados, poderemos descobrir padrões, tendências e marcos notáveis ​​associados ao desempenho de Messi, permitindo uma apreciação mais profunda de suas habilidades e realizações no mundo do futebol."
   ]
  },
  {
   "attachments": {},
   "cell_type": "markdown",
   "metadata": {},
   "source": [
    "## 1.1. Objetivos\n",
    "\n",
    "O objetivo deste estudo é realizar uma Análise Exploratória dos Dados (Exploratory Data Analysis - EDA) do conjunto de dados `messi`, adaptado pelo autor e disponível em [data/messi.csv](data/messi.csv); a fim de caracterizar quais tipos de gols Messi mais marcou, em qual período e faixa de tempo Messi mais marcou, principais assistentes, por qual clube ele mais marcou e quais clubes adversários sofreram mais gols de Lionel Messi. Especificamente serão respondidas as seguintes questões de pesquisa:\n",
    "\n",
    "1. [Em quais clubes adversários Messi mais marcou em cada competição que ele disputou?](#3.1.-Qual-é-o-número-de-Sobreviventes?)\n",
    "2. [Quais tipos de gols Messi mais marcou?](#3.2.-Homens-ou-mulheres-tiveram-mais-chances-de-sobreviver?)\n",
    "3. [Quantos gols em cada período (primeiro ou segundo tempo) Messi marcou?](#3.3.-Qual-classe-social-teve-mais-sobreviventes?)\n",
    "4. [Em quais faixas de minuto (divididos a cada 15 minutos) Messi mais marcou?](#3.4.-Qual-faixa-etária-teve-mais-chances-de-sobreviver?)\n",
    "5. [Quais jogadores deram mais assistências para gols de Lionel Messi?](#3.5.-Qual-faixa-etária-teve-mais-chances-de-sobreviver?)\n"
   ]
  },
  {
   "attachments": {},
   "cell_type": "markdown",
   "metadata": {},
   "source": [
    "# 2. Metodologia\n",
    "\n",
    "Nesta seção será apresentado todo o processo de preparação, organização e limpeza de dados feito no *dataset* que possui os seguintes dados:\n",
    "\n",
    "| Coluna          | Descrição                                                                 |\n",
    "|-----------------|---------------------------------------------------------------------------|\n",
    "| id_gol          | Identficador único do gol marcado.                                        |\n",
    "| temporada       | Época em que o gol foi marcado.                                           |\n",
    "| competicao      | Qual era o campeonato que o gol foi marcado.                              |\n",
    "| rodada_comp     | Em qual estágio estava a competição.                                      |\n",
    "| data            |  Data que o gol foi marcado                                               |\n",
    "| local           | Se Messi jogava no estádio do seu time (H) ou do adversário (A)           |\n",
    "| clube           | Por qual clube Messi jogava quando marcou o gol.                          |\n",
    "| adversario      | Clube adversário que Messi marcou o gol.                                  |\n",
    "| placar          | Placar final da partida.                                                  |\n",
    "| posicao_campo   | Em qual posição Messi jogava quando marcou o gol.                         |\n",
    "| minuto          | Em qual minuto da partida Messi jogava quando marcou o gol.               |\n",
    "| placar_pos_gol  | Qual foi o placar pós gol de Messi.                                       |\n",
    "| tipo            | Tipo de gol marcado.                                                      |\n",
    "| jogador_ast     | Jogador que deu o passe para o gol.   \n",
    "\n",
    "## OBSERVAÇÕES\n",
    "\n",
    "- `classe` é uma aproximação do status socioeconômico na época, onde: 1 = Classe Alta1; 2 = Classe Média e 3 = Classe Baixa;\n",
    "- `idade` está representada em anos, porém, se a idade for menor que Um (1) ou caso tenha sido estimada, ela estará com casas decimais xx.5;\n",
    "- `tarifa` está em Libras esterlinas (British Pounds - £) anteriores a 1970;\n",
    "- `irmaos_conjuges` e `pais_filhos`: as variáveis de relação familiar de algumas relações foram ignoradas; a seguir estão as definições usadas:\n",
    "    - **Irmão**: Irmão, irmã, meio-irmão ou meia-irmã do passageiro a bordo do Titanic;\n",
    "    - **Cônjuge**: Marido ou esposa do passageiro a bordo do Titanic (amantes e noivos ignorados);\n",
    "    - **Pai**: Mãe ou pai do passageiro a bordo do Titanic;\n",
    "    - **Criança**: Filho, Filha, Enteado ou Enteada do Passageiro a bordo do Titanic;\n",
    "    - Outros parentes excluídos deste estudo incluem primos, sobrinhos / sobrinhas, tias / tios e parentes;\n",
    "    - Algumas crianças viajavam apenas com uma babá, portanto foi atribuído 0 para elas em pais_filhos; \n",
    "    - Alguns viajaram com amigos ou vizinhos muito próximos em uma vila, no entanto, as definições não apóiam essas relações.\n"
   ]
  },
  {
   "attachments": {},
   "cell_type": "markdown",
   "metadata": {},
   "source": [
    "## 2.1. Configuração do Ambiente"
   ]
  },
  {
   "cell_type": "code",
   "execution_count": null,
   "metadata": {},
   "outputs": [],
   "source": []
  },
  {
   "attachments": {},
   "cell_type": "markdown",
   "metadata": {},
   "source": [
    "## 2.2. Leitura dos Dados"
   ]
  },
  {
   "cell_type": "code",
   "execution_count": null,
   "metadata": {},
   "outputs": [],
   "source": []
  },
  {
   "attachments": {},
   "cell_type": "markdown",
   "metadata": {},
   "source": [
    "## 2.3. Organização e Limpeza dos Dados"
   ]
  },
  {
   "attachments": {},
   "cell_type": "markdown",
   "metadata": {},
   "source": [
    "### 2.3.1. Visão Geral do Conjunto de Dados"
   ]
  },
  {
   "cell_type": "code",
   "execution_count": null,
   "metadata": {},
   "outputs": [],
   "source": []
  },
  {
   "cell_type": "code",
   "execution_count": null,
   "metadata": {},
   "outputs": [],
   "source": []
  },
  {
   "attachments": {},
   "cell_type": "markdown",
   "metadata": {},
   "source": [
    "### 2.3.2 Remoção de Colunas\n",
    "Remoção de colunas incompletas e/ou desnecessárias para a análise."
   ]
  },
  {
   "cell_type": "code",
   "execution_count": null,
   "metadata": {},
   "outputs": [],
   "source": []
  },
  {
   "attachments": {},
   "cell_type": "markdown",
   "metadata": {},
   "source": [
    "### 2.3.3. Dados Ausentes"
   ]
  },
  {
   "cell_type": "code",
   "execution_count": null,
   "metadata": {},
   "outputs": [],
   "source": []
  },
  {
   "attachments": {},
   "cell_type": "markdown",
   "metadata": {},
   "source": [
    "#### 2.3.3.1 NULL"
   ]
  },
  {
   "cell_type": "code",
   "execution_count": null,
   "metadata": {},
   "outputs": [],
   "source": []
  },
  {
   "attachments": {},
   "cell_type": "markdown",
   "metadata": {},
   "source": [
    "#### 2.3.3.2 NULL"
   ]
  },
  {
   "cell_type": "code",
   "execution_count": null,
   "metadata": {},
   "outputs": [],
   "source": []
  },
  {
   "attachments": {},
   "cell_type": "markdown",
   "metadata": {},
   "source": [
    "#### 2.3.3.3 NULL"
   ]
  },
  {
   "cell_type": "code",
   "execution_count": null,
   "metadata": {},
   "outputs": [],
   "source": []
  },
  {
   "attachments": {},
   "cell_type": "markdown",
   "metadata": {},
   "source": [
    "## 2.4. Mapeamento de Dados\n",
    "Para melhorar a análise e interpretação dos dados os seguintes atributos serão modificados:\n",
    "\n",
    "| Coluna    | Original     | Modificado                          |\n",
    "|:----------|:-------------|:------------------------------------|\n",
    "| NULL    | NULL      | NULL                  |\n",
    "| NULL      | NULL | NULL        |\n",
    "| NULL  | NULL    | NULL  |\n"
   ]
  },
  {
   "cell_type": "code",
   "execution_count": null,
   "metadata": {},
   "outputs": [],
   "source": []
  },
  {
   "attachments": {},
   "cell_type": "markdown",
   "metadata": {},
   "source": [
    "## 2.5.  Feature Engineering\n",
    "\n",
    "A engenharia de recursos (*Feature Engineering*) é o processo de usar o conhecimento do domínio para extrair recursos dos dados brutos. Neste estudo serão acrescentadas as seguintes colunas para enriquecer a análise de dados:\n",
    "\n",
    "| Coluna         | Descrição                                                         |\n",
    "|:---------------|:------------------------------------------------------------------|\n",
    "| NULL | NULL: `NULL` |\n",
    "| NULL   | NULL.                              |"
   ]
  },
  {
   "attachments": {},
   "cell_type": "markdown",
   "metadata": {},
   "source": [
    "### 2.5.1 Total de Parentes"
   ]
  },
  {
   "cell_type": "code",
   "execution_count": null,
   "metadata": {},
   "outputs": [],
   "source": []
  },
  {
   "attachments": {},
   "cell_type": "markdown",
   "metadata": {},
   "source": [
    "### 2.5.2 Faixas Etárias"
   ]
  },
  {
   "cell_type": "code",
   "execution_count": null,
   "metadata": {},
   "outputs": [],
   "source": []
  },
  {
   "attachments": {},
   "cell_type": "markdown",
   "metadata": {},
   "source": [
    "# 3. Análise dos Dados"
   ]
  },
  {
   "attachments": {},
   "cell_type": "markdown",
   "metadata": {},
   "source": [
    "## 3.1. Em quais clubes adversários Messi mais marcou em cada competição que ele disputou?"
   ]
  },
  {
   "cell_type": "code",
   "execution_count": null,
   "metadata": {},
   "outputs": [],
   "source": []
  },
  {
   "attachments": {},
   "cell_type": "markdown",
   "metadata": {},
   "source": [
    "## 3.2. Quais tipos de gols Messi mais marcou?"
   ]
  },
  {
   "cell_type": "code",
   "execution_count": null,
   "metadata": {},
   "outputs": [],
   "source": []
  },
  {
   "attachments": {},
   "cell_type": "markdown",
   "metadata": {},
   "source": [
    "## 3.3. Quantos gols em cada período (primeiro ou segundo tempo) Messi marcou?"
   ]
  },
  {
   "cell_type": "code",
   "execution_count": null,
   "metadata": {},
   "outputs": [],
   "source": []
  },
  {
   "attachments": {},
   "cell_type": "markdown",
   "metadata": {},
   "source": [
    "## 3.4. Em quais faixas de minuto (divididos a cada 15 minutos) Messi mais marcou?"
   ]
  },
  {
   "cell_type": "code",
   "execution_count": null,
   "metadata": {},
   "outputs": [],
   "source": []
  },
  {
   "attachments": {},
   "cell_type": "markdown",
   "metadata": {},
   "source": [
    "## 3.5. Quais jogadores deram mais assistências para gols de Lionel Messi?"
   ]
  },
  {
   "cell_type": "code",
   "execution_count": null,
   "metadata": {},
   "outputs": [],
   "source": []
  },
  {
   "attachments": {},
   "cell_type": "markdown",
   "metadata": {},
   "source": [
    "# REFERÊNCIAS\n",
    "\n"
   ]
  }
 ],
 "metadata": {
  "kernelspec": {
   "display_name": "Python 3",
   "language": "python",
   "name": "python3"
  },
  "language_info": {
   "codemirror_mode": {
    "name": "ipython",
    "version": 3
   },
   "file_extension": ".py",
   "mimetype": "text/x-python",
   "name": "python",
   "nbconvert_exporter": "python",
   "pygments_lexer": "ipython3",
   "version": "3.7.4"
  }
 },
 "nbformat": 4,
 "nbformat_minor": 4
}
