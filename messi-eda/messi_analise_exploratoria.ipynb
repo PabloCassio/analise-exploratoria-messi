{
  "cells": [
    {
      "attachments": {},
      "cell_type": "markdown",
      "metadata": {
        "id": "fl5PHrz1vx2J"
      },
      "source": [
        "# Análise de Dados Exploratória de Lionel Messi\n",
        "\n",
        "![messi](img/messi.png \"Lionel Messi comemorando título da Copa do Mundo com seus companheiros. Image By: fifa.com\")"
      ]
    },
    {
      "attachments": {},
      "cell_type": "markdown",
      "metadata": {
        "id": "qoyLIf1Gvx2M"
      },
      "source": [
        "# 1. Introdução\n",
        "\n",
        "Lionel Andrés Messi Cuccittini é um renomado jogador de futebol argentino, conhecido por suas habilidades excepcionais e conquistas no esporte. Desde sua estreia até o dia 03/04/2023, Messi se destacou marcando um número impressionante de gols ao longo de sua carreira.\n",
        "\n",
        "Neste estudo, iremos explorar um conjunto de dados detalhando os gols marcados por Lionel Messi em partidas oficiais. Os dados abrangem desde o início de sua carreira até a data mencionada, proporcionando uma visão abrangente dos feitos do jogador ao longo do tempo. Essas informações são valiosas para entender a magnitude de suas conquistas e seu impacto no mundo do futebol.\n",
        "\n",
        "O conjunto de dados foi compilado e atualizado por Azmine Toushik Wasi na plataforma [Kaggle](https://www.kaggle.com/datasets/azminetoushikwasi/-lionel-messi-all-club-goals), incluindo registros de jogos, relatórios esportivos e estatísticas oficiais. Ele apresenta detalhes sobre as partidas em que Messi marcou gols, incluindo a temporada, competição, jornada, data, local, clube pelo qual Messi marcou o gol, adversário, resultado da partida, posição que Messi jogou no campo, minuto, qual o placar a partir do gol de Lionel Messi, tipo de gol marcado e o jogador que deu a assistência para oa gol.\n",
        "\n",
        "Ao analisar esses dados, poderemos descobrir padrões, tendências e marcos notáveis ​​associados ao desempenho de Messi, permitindo uma apreciação mais profunda de suas habilidades e realizações no mundo do futebol."
      ]
    },
    {
      "attachments": {},
      "cell_type": "markdown",
      "metadata": {
        "id": "93-GRSHLvx2N"
      },
      "source": [
        "## 1.1. Objetivos\n",
        "\n",
        "O objetivo deste estudo é realizar uma Análise Exploratória dos Dados (Exploratory Data Analysis - EDA) do conjunto de dados `messi`, adaptado pelo autor e disponível em [data/messi.csv](data/messi.csv); a fim de caracterizar quais tipos de gols Messi mais marcou, em qual período e faixa de tempo Messi mais marcou, principais assistentes, por qual clube ele mais marcou e quais clubes adversários sofreram mais gols de Lionel Messi. Especificamente serão respondidas as seguintes questões de pesquisa:\n",
        "\n",
        "1. [Em quais clubes adversários Messi mais marcou em cada competição que ele disputou?](#3.1.-Qual-é-o-número-de-Sobreviventes?)\n",
        "2. [Quais tipos de gols Messi mais marcou?](#3.2.-Homens-ou-mulheres-tiveram-mais-chances-de-sobreviver?)\n",
        "3. [Quantos gols em cada período (primeiro ou segundo tempo) Messi marcou?](#3.3.-Qual-classe-social-teve-mais-sobreviventes?)\n",
        "4. [Em quais faixas de minuto (divididos a cada 15 minutos) Messi mais marcou?](#3.4.-Qual-faixa-etária-teve-mais-chances-de-sobreviver?)\n",
        "5. [Quais jogadores deram mais assistências para gols de Lionel Messi?](#3.5.-Qual-faixa-etária-teve-mais-chances-de-sobreviver?)\n"
      ]
    },
    {
      "attachments": {},
      "cell_type": "markdown",
      "metadata": {
        "id": "tDeCYKAGvx2O"
      },
      "source": [
        "# 2. Metodologia\n",
        "\n",
        "Nesta seção será apresentado todo o processo de preparação, organização e limpeza de dados feito no *dataset* que possui os seguintes dados:\n",
        "\n",
        "| Coluna          | Descrição                                                                 |\n",
        "|-----------------|---------------------------------------------------------------------------|\n",
        "| id_gol          | Identficador único do gol marcado.                                        |\n",
        "| temporada       | Época em que o gol foi marcado.                                           |\n",
        "| competicao      | Qual era o campeonato que o gol foi marcado.                              |\n",
        "| rodada_comp     | Em qual estágio estava a competição.                                      |\n",
        "| data            |  Data que o gol foi marcado                                               |\n",
        "| local           | Se Messi jogava no estádio do seu time (H) ou do adversário (A)           |\n",
        "| clube           | Por qual clube Messi jogava quando marcou o gol.                          |\n",
        "| adversario      | Clube adversário que Messi marcou o gol.                                  |\n",
        "| placar          | Placar final da partida.                                                  |\n",
        "| posicao_campo   | Em qual posição Messi jogava quando marcou o gol.                         |\n",
        "| minuto          | Em qual minuto da partida Messi jogava quando marcou o gol.               |\n",
        "| placar_pos_gol  | Qual foi o placar pós gol de Messi.                                       |\n",
        "| tipo            | Tipo de gol marcado.                                                      |\n",
        "| jogador_ast     | Jogador que deu o passe para o gol.                                       |\n",
        "\n",
        "## OBSERVAÇÕES\n",
        "\n",
        "- `temporada` está divida em em dois anos diferentes, representando o começo da temporada em um ano e o fim da temporada no outro;\n",
        "- `local` é uma definição se o estádio em qual Messi jogava estava com mando de campo do clube em que atuava (H) ou do clube adversário (A);\n",
        "- `minuto` está representada em faixas de números de 1 a 90, onde o fim do primeiro tempo se dá aos 45 e o fim do segundo aos 90, sendo possível conter acréscimos pós fim de cada tempo representados pelo símbolo \"+\" e um número que representa o acréscimo em minutos. Contém também minutos pós o período normal de 90 minutos, chamados de prorrogação, em casos de competições especiais que exigem um vencedor por diferença de gols;\n",
        "- `tipo` se refere ao estilo de gol marcado por Messi, dividos em::\n",
        "    - **Peito**: Gol marcado de peito;\n",
        "    - **Gol em contra ataque**: Gol marcado em jogada de contra ataque;\n",
        "    - **Chute com o pe esquedo**: Chute de pé esquerdo;\n",
        "    - **Chute com o pe direito**:  Chute de pé direito;\n",
        "    - **Arrancada**: Jogada partindo de um ponto inicial que contém mais toques na bola de Messi do que outro jogador;\n",
        "    - **Cabecada**: Gol marcado de cabeça;\n",
        "    - **Penalti**: Gol marcado em cobrança de penâlti;\n",
        "    - **Cobranca de falta**: Gol marcado em cobrança de falta;\n",
        "    - **Toque sutil**: Desvio leve para o gol;\n",
        "    - **Gol em contra ataque**: Gol partindo de erro do adversário no campo de defesa do clube de Messi;\n",
        "    - **Penalti**: Gol marcado em rebote de cobrança de penâlti;\n",
        "    - **Desviando chute ao gol**: Desvio de Messi em finalização rumo ao gol de outro jogador;\n"
      ]
    },
    {
      "attachments": {},
      "cell_type": "markdown",
      "metadata": {
        "id": "4aS73XMKv9VC"
      },
      "source": [
        "# 3. Análise dos Dados\n"
      ]
    },
    {
      "attachments": {},
      "cell_type": "markdown",
      "metadata": {
        "id": "H0AcVaJPxFpM"
      },
      "source": [
        "# 3.1 Em quais clubes adversários Messi mais marcou em cada competição que ele disputou?"
      ]
    },
    {
      "cell_type": "code",
      "execution_count": null,
      "metadata": {
        "id": "XOv-jExu0erb"
      },
      "outputs": [],
      "source": [
        "pip install -r requirements.txt"
      ]
    },
    {
      "cell_type": "code",
      "execution_count": null,
      "metadata": {
        "colab": {
          "base_uri": "https://localhost:8080/",
          "height": 415
        },
        "id": "JKWlHmdnxlqM",
        "outputId": "a9df6300-6550-4ce7-9c8b-8d8d6c9c9ea0"
      },
      "outputs": [],
      "source": [
        "import numpy as np\n",
        "import pandas as pd\n",
        "import matplotlib.pyplot as plt\n",
        "\n",
        "df = pd.read_csv(\"data/messi.csv\")\n",
        "competicoes= df['competicao'].unique()\n",
        "for competicao in competicoes:\n",
        "  df_competicao_desejada = df[df['competicao'] == competicao]\n",
        "  exibir = df_competicao_desejada['adversario'].value_counts()\n",
        "  exibir = exibir.head(5)\n",
        "  exibir.plot(kind='bar')\n",
        "  plt.xlabel('Adversário')\n",
        "  plt.ylabel('Quantidade de Gols')\n",
        "  plt.yticks(range(1, max(exibir.values) +1 ))\n",
        "  plt.title((f\"Exibindo os adversários que Messi mais marcou na competição {competicao}\"))\n",
        "  plt.show()"
      ]
    },
    {
      "attachments": {},
      "cell_type": "markdown",
      "metadata": {
        "id": "Uc3II2IqxHQV"
      },
      "source": [
        "# 3.2 Quais tipos de gols Messi mais marcou?\n"
      ]
    },
    {
      "cell_type": "code",
      "execution_count": null,
      "metadata": {
        "id": "q_HpyjfGx979"
      },
      "outputs": [],
      "source": [
        "import numpy as np\n",
        "import pandas as pd\n",
        "import matplotlib.pyplot as plt\n",
        "# import mplcursors\n",
        "df = pd.read_csv(\"data/messi.csv\")\n",
        "tipo_gols = df['tipo'].value_counts()\n",
        "tipo_gol= tipo_gols.head(10) \n",
        "fig, ax = plt.subplots()\n",
        "barras = ax.bar(tipo_gol.index, tipo_gol)\n",
        "\n",
        "# Adicionar as quantidades sobre cada barra\n",
        "for barra in barras:\n",
        "    altura = barra.get_height()\n",
        "    ax.annotate(f'{altura}', xy=(barra.get_x() + barra.get_width() / 2, altura),\n",
        "                xytext=(0, 3), textcoords='offset points', ha='center', va='bottom')\n",
        "\n",
        "plt.xlabel('Tipos de Gols')\n",
        "plt.ylabel('Quantidade')\n",
        "plt.title('Tipos de Gols mais Marcados Por Lionel Messi')\n",
        "plt.xlim(-0.5, len(tipo_gol) - 0.5)\n",
        "plt.xticks(rotation=45, ha='right')\n",
        "plt.ylim(0, tipo_gol.max() * 1.1) \n",
        "plt.tight_layout()\n",
        "plt.show()"
      ]
    },
    {
      "attachments": {},
      "cell_type": "markdown",
      "metadata": {
        "id": "eoP9kVWNxI07"
      },
      "source": [
        "# 3.3 Quantos gols em cada período (primeiro ou segundo tempo) Messi marcou?\n"
      ]
    },
    {
      "cell_type": "code",
      "execution_count": null,
      "metadata": {
        "id": "HA2Fow5syBfi"
      },
      "outputs": [],
      "source": [
        "import pandas as pd\n",
        "import matplotlib.pyplot as plt\n",
        "import numpy as np\n",
        "\n",
        "df = pd.read_csv('data/messi.csv')\n",
        "df['minuto'] = pd.to_numeric(df['minuto'], errors='coerce')\n",
        "intervals = [1, 45 , 91, 120]\n",
        "labels = ['Primeiro Tempo', 'Segundo Tempo', 'Prorrogação']\n",
        "df['faixa_minuto'] = pd.cut(df['minuto'], bins=intervals, labels=labels, right=False)\n",
        "contador = df['faixa_minuto'].value_counts().sort_index()\n",
        "matriz_contador = np.array(contador).reshape(1, -1)\n",
        "fig, ax = plt.subplots()\n",
        "im = ax.imshow(matriz_contador, cmap='YlOrRd')\n",
        "for i in range(matriz_contador.shape[0]):\n",
        "    for j in range(matriz_contador.shape[1]):\n",
        "        text = ax.text(j, i, matriz_contador[i, j], ha='center', va='center', color='black')\n",
        "\n",
        "ax.set_xticks(np.arange(len(labels)))\n",
        "ax.set_yticks([0])\n",
        "ax.set_xticklabels(labels)\n",
        "ax.set_yticklabels(['Quantidade'])\n",
        "ax.set_title('Quantidade de Gols de Lionel Messi em Etapas da Partida', fontsize=10)\n",
        "\n",
        "plt.subplots_adjust(bottom=0.02)\n",
        "cbar = ax.figure.colorbar(im, ax=ax, aspect=50)\n",
        "plt.show()\n"
      ]
    },
    {
      "attachments": {},
      "cell_type": "markdown",
      "metadata": {
        "id": "Tyvxyps5xJYU"
      },
      "source": [
        "# 3.4 Em quais faixas de minuto (divididos a cada 15 minutos) Messi mais marcou?"
      ]
    },
    {
      "cell_type": "code",
      "execution_count": null,
      "metadata": {
        "id": "SLR912LR0Jp0"
      },
      "outputs": [],
      "source": [
        "import pandas as pd\n",
        "import matplotlib.pyplot as plt\n",
        "import numpy as np\n",
        "\n",
        "df = pd.read_csv('data/messi.csv')\n",
        "df['minuto'] = pd.to_numeric(df['minuto'], errors='coerce')\n",
        "\n",
        "intervals = [1, 15, 30, 45, 60, 75, 91, 105, 120]\n",
        "\n",
        "labels = ['1-15', '16-30', '31-45', '46-60', '61-75', '76-90', '91-105', '105-120']\n",
        "\n",
        "df['faixa_minuto'] = pd.cut(df['minuto'], bins=intervals, labels=labels, right=False)\n",
        "\n",
        "\n",
        "contador = df['faixa_minuto'].value_counts().sort_index()\n",
        "\n",
        "matriz_contador = np.array(contador).reshape(1, -1)\n",
        "fig, ax = plt.subplots()\n",
        "im = ax.imshow(matriz_contador, cmap='YlOrRd')\n",
        "\n",
        "for i in range(matriz_contador.shape[0]):\n",
        "    for j in range(matriz_contador.shape[1]):\n",
        "        text = ax.text(j, i, matriz_contador[i, j], ha='center', va='center', color='black')\n",
        "\n",
        "\n",
        "ax.set_xticks(np.arange(len(labels)))\n",
        "ax.set_yticks([0])\n",
        "ax.set_xticklabels(labels)\n",
        "ax.set_yticklabels(['Quantidade'])\n",
        "\n",
        "ax.set_title('Quantidade de Gols de Lionel Messi: Faixas de 15 Minutos', fontsize=10)\n",
        "\n",
        "\n",
        "plt.subplots_adjust(bottom=0.02)\n",
        "\n",
        "cbar = ax.figure.colorbar(im, ax=ax, aspect=50)\n",
        "\n",
        "plt.show()"
      ]
    },
    {
      "attachments": {},
      "cell_type": "markdown",
      "metadata": {
        "id": "sKCPNE7AxJ40"
      },
      "source": [
        "# 3.5 Quais jogadores deram mais assistências para gols de Lionel Messi?"
      ]
    },
    {
      "cell_type": "code",
      "execution_count": null,
      "metadata": {
        "id": "8rRQR53w0QAJ"
      },
      "outputs": [],
      "source": [
        "import numpy as np\n",
        "import pandas as pd\n",
        "import matplotlib.pyplot as plt\n",
        "df = pd.read_csv(\"data/messi.csv\")\n",
        "maiores_assistentes = df['jogador_assistente'].value_counts()\n",
        "maiores_assistentes= maiores_assistentes.head(10) \n",
        "fig, ax = plt.subplots()\n",
        "barras = ax.bar(maiores_assistentes.index, maiores_assistentes)\n",
        "\n",
        "# Adicionar as quantidades sobre cada barra\n",
        "for barra in barras:\n",
        "    altura = barra.get_height()\n",
        "    ax.annotate(f'{altura}', xy=(barra.get_x() + barra.get_width() / 2, altura),\n",
        "                xytext=(0, 3), textcoords='offset points', ha='center', va='bottom')\n",
        "\n",
        "plt.xlabel('Jogador Assistente')\n",
        "plt.ylabel('Quantidade')\n",
        "plt.title('Maiores Assistentes de Lionel Messi')\n",
        "plt.xlim(-0.5, len(maiores_assistentes) - 0.5)\n",
        "plt.xticks(rotation=45, ha='right')\n",
        "plt.ylim(0, maiores_assistentes.max() * 1.1) \n",
        "plt.tight_layout()\n",
        "plt.show()"
      ]
    }
  ],
  "metadata": {
    "colab": {
      "provenance": []
    },
    "kernelspec": {
      "display_name": "Python 3",
      "language": "python",
      "name": "python3"
    },
    "language_info": {
      "codemirror_mode": {
        "name": "ipython",
        "version": 3
      },
      "file_extension": ".py",
      "mimetype": "text/x-python",
      "name": "python",
      "nbconvert_exporter": "python",
      "pygments_lexer": "ipython3",
      "version": "3.11.3"
    }
  },
  "nbformat": 4,
  "nbformat_minor": 0
}
