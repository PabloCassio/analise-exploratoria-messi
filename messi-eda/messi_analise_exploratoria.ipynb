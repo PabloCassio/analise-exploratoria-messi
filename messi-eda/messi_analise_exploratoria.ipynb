{
 "cells": [
  {
   "attachments": {},
   "cell_type": "markdown",
   "metadata": {},
   "source": [
    "# Análise de Dados Exploratória de Lionel Messi\n",
    "\n",
    "![messi](img/messi.png \"Lionel Messi comemorando título da Copa do Mundo com seus companheiros. Image By: fifa.com\")"
   ]
  },
  {
   "attachments": {},
   "cell_type": "markdown",
   "metadata": {},
   "source": [
    "# 1. Introdução\n",
    "\n",
    "Lionel Andrés Messi Cuccittini é um renomado jogador de futebol argentino, conhecido por suas habilidades excepcionais e conquistas no esporte. Desde sua estreia até o dia 03/04/2023, Messi se destacou marcando um número impressionante de gols ao longo de sua carreira.\n",
    "\n",
    "Neste estudo, iremos explorar um conjunto de dados detalhando os gols marcados por Lionel Messi em partidas oficiais. Os dados abrangem desde o início de sua carreira até a data mencionada, proporcionando uma visão abrangente dos feitos do jogador ao longo do tempo. Essas informações são valiosas para entender a magnitude de suas conquistas e seu impacto no mundo do futebol.\n",
    "\n",
    "O conjunto de dados foi compilado e atualizado por Azmine Toushik Wasi na plataforma [Kaggle](https://www.kaggle.com/datasets/azminetoushikwasi/-lionel-messi-all-club-goals), incluindo registros de jogos, relatórios esportivos e estatísticas oficiais. Ele apresenta detalhes sobre as partidas em que Messi marcou gols, incluindo a temporada, competição, jornada, data, local, clube pelo qual Messi marcou o gol, adversário, resultado da partida, posição que Messi jogou no campo, minuto, qual o placar a partir do gol de Lionel Messi, tipo de gol marcado e o jogador que deu a assistência para oa gol.\n",
    "\n",
    "Ao analisar esses dados, poderemos descobrir padrões, tendências e marcos notáveis ​​associados ao desempenho de Messi, permitindo uma apreciação mais profunda de suas habilidades e realizações no mundo do futebol."
   ]
  },
  {
   "attachments": {},
   "cell_type": "markdown",
   "metadata": {},
   "source": [
    "## 1.1. Objetivos\n",
    "\n",
    "O objetivo deste estudo é realizar uma Análise Exploratória dos Dados (Exploratory Data Analysis - EDA) do conjunto de dados `messi`, adaptado pelo autor e disponível em [data/messi.csv](data/messi.csv); a fim de caracterizar quais tipos de gols Messi mais marcou, em qual período e faixa de tempo Messi mais marcou, principais assistentes, por qual clube ele mais marcou e quais clubes adversários sofreram mais gols de Lionel Messi. Especificamente serão respondidas as seguintes questões de pesquisa:\n",
    "\n",
    "1. [Em quais clubes adversários Messi mais marcou em cada competição que ele disputou?](#3.1.-Qual-é-o-número-de-Sobreviventes?)\n",
    "2. [Quais tipos de gols Messi mais marcou?](#3.2.-Homens-ou-mulheres-tiveram-mais-chances-de-sobreviver?)\n",
    "3. [Quantos gols em cada período (primeiro ou segundo tempo) Messi marcou?](#3.3.-Qual-classe-social-teve-mais-sobreviventes?)\n",
    "4. [Em quais faixas de minuto (divididos a cada 15 minutos) Messi mais marcou?](#3.4.-Qual-faixa-etária-teve-mais-chances-de-sobreviver?)\n",
    "5. [Quais jogadores deram mais assistências para gols de Lionel Messi?](#3.5.-Qual-faixa-etária-teve-mais-chances-de-sobreviver?)\n"
   ]
  },
  {
   "attachments": {},
   "cell_type": "markdown",
   "metadata": {},
   "source": [
    "# 2. Metodologia\n",
    "\n",
    "Nesta seção será apresentado todo o processo de preparação, organização e limpeza de dados feito no *dataset* que possui os seguintes dados:\n",
    "\n",
    "| Coluna          | Descrição                                                                 |\n",
    "|-----------------|---------------------------------------------------------------------------|\n",
    "| id_gol          | Identficador único do gol marcado.                                        |\n",
    "| temporada       | Época em que o gol foi marcado.                                           |\n",
    "| competicao      | Qual era o campeonato que o gol foi marcado.                              |\n",
    "| rodada_comp     | Em qual estágio estava a competição.                                      |\n",
    "| data            |  Data que o gol foi marcado                                               |\n",
    "| local           | Se Messi jogava no estádio do seu time (H) ou do adversário (A)           |\n",
    "| clube           | Por qual clube Messi jogava quando marcou o gol.                          |\n",
    "| adversario      | Clube adversário que Messi marcou o gol.                                  |\n",
    "| placar          | Placar final da partida.                                                  |\n",
    "| posicao_campo   | Em qual posição Messi jogava quando marcou o gol.                         |\n",
    "| minuto          | Em qual minuto da partida Messi jogava quando marcou o gol.               |\n",
    "| placar_pos_gol  | Qual foi o placar pós gol de Messi.                                       |\n",
    "| tipo            | Tipo de gol marcado.                                                      |\n",
    "| jogador_ast     | Jogador que deu o passe para o gol.                                       |\n",
    "\n",
    "## OBSERVAÇÕES\n",
    "\n",
    "- `temporada` está divida em em dois anos diferentes, representando o começo da temporada em um ano e o fim da temporada no outro;\n",
    "- `local` é uma definição se o estádio em qual Messi jogava estava com mando de campo do clube em que atuava (H) ou do clube adversário (A);\n",
    "- `minuto` está representada em faixas de números de 1 a 90, onde o fim do primeiro tempo se dá aos 45 e o fim do segundo aos 90, sendo possível conter acréscimos pós fim de cada tempo representados pelo símbolo \"+\" e um número que representa o acréscimo em minutos. Contém também minutos pós o período normal de 90 minutos, chamados de prorrogação, em casos de competições especiais que exigem um vencedor por diferença de gols;\n",
    "- `tipo` se refere ao estilo de gol marcado por Messi, dividos em::\n",
    "    - **Peito**: Gol marcado de peito;\n",
    "    - **Gol em contra ataque**: Gol marcado em jogada de contra ataque;\n",
    "    - **Chute com o pe esquedo**: Chute de pé esquerdo;\n",
    "    - **Chute com o pe direito**:  Chute de pé direito;\n",
    "    - **Arrancada**: Jogada partindo de um ponto inicial que contém mais toques na bola de Messi do que outro jogador;\n",
    "    - **Cabecada**: Gol marcado de cabeça;\n",
    "    - **Penalti**: Gol marcado em cobrança de penâlti;\n",
    "    - **Cobranca de falta**: Gol marcado em cobrança de falta;\n",
    "    - **Toque sutil**: Desvio leve para o gol;\n",
    "    - **Gol em contra ataque**: Gol partindo de erro do adversário no campo de defesa do clube de Messi;\n",
    "    - **Penalti**: Gol marcado em rebote de cobrança de penâlti;\n",
    "    - **Desviando chute ao gol**: Desvio de Messi em finalização rumo ao gol de outro jogador;\n"
   ]
  }
 ],
 "metadata": {
  "kernelspec": {
   "display_name": "Python 3",
   "language": "python",
   "name": "python3"
  },
  "language_info": {
   "codemirror_mode": {
    "name": "ipython",
    "version": 3
   },
   "file_extension": ".py",
   "mimetype": "text/x-python",
   "name": "python",
   "nbconvert_exporter": "python",
   "pygments_lexer": "ipython3",
   "version": "3.7.4"
  }
 },
 "nbformat": 4,
 "nbformat_minor": 4
}
